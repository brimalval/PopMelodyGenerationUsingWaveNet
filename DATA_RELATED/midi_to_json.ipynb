{
 "cells": [
  {
   "cell_type": "code",
   "execution_count": 1,
   "metadata": {
    "collapsed": true
   },
   "outputs": [],
   "source": [
    "from music21 import *\n",
    "import os\n",
    "from fractions import *\n",
    "import numpy as np\n",
    "from midi_note import MIDINote\n",
    "import json"
   ]
  },
  {
   "cell_type": "code",
   "execution_count": 2,
   "outputs": [],
   "source": [
    "#Global Variables\n",
    "\n",
    "PATH = \"POP909/\"\n",
    "LIMIT = 2\n",
    "MIDI_NOTE_DIRECTORY = \"midi_notes_list.json\"\n"
   ],
   "metadata": {
    "collapsed": false,
    "pycharm": {
     "name": "#%%\n"
    }
   }
  },
  {
   "cell_type": "code",
   "execution_count": 3,
   "outputs": [],
   "source": [
    "def parse_raw_notes(file):\n",
    "    print(\"Loading Music File:\", file)\n",
    "    raw_notes = []\n",
    "\n",
    "    midi_data = converter.parse(file)\n",
    "\n",
    "    for part in midi_data.parts:\n",
    "        if part.partName == 'MELODY':\n",
    "            midi_elements = part.recurse()\n",
    "            for element in midi_elements:\n",
    "                if isinstance(element, note.Note) or isinstance(element, note.Rest):\n",
    "                    note_duration = duration.Duration()\n",
    "                    note_duration.quarterLength = element.quarterLength\n",
    "\n",
    "                    if isinstance(element, note.Rest):\n",
    "                        raw_note = str(element.name)\n",
    "                    else:\n",
    "                        raw_note = str(element.pitch)\n",
    "\n",
    "                    raw_notes.append(MIDINote(raw_note, str(note_duration.type), str(element.quarterLength)))\n",
    "\n",
    "    return np.array(raw_notes)"
   ],
   "metadata": {
    "collapsed": false,
    "pycharm": {
     "name": "#%%\n"
    }
   }
  },
  {
   "cell_type": "code",
   "execution_count": 4,
   "outputs": [],
   "source": [
    "def get_midi_file_paths():\n",
    "    path = PATH\n",
    "    limit = LIMIT\n",
    "    midi_files_path = []\n",
    "    for index, i in enumerate(os.listdir(path)):\n",
    "        if index == limit:\n",
    "            break\n",
    "        for j in os.listdir(path + i):\n",
    "            midi_path = (i + '/' + j)\n",
    "            if midi_path.endswith(\".mid\"):\n",
    "                midi_files_path.append(midi_path)\n",
    "    return np.array(midi_files_path)"
   ],
   "metadata": {
    "collapsed": false,
    "pycharm": {
     "name": "#%%\n"
    }
   }
  },
  {
   "cell_type": "code",
   "execution_count": 5,
   "outputs": [],
   "source": [
    "def load_data():\n",
    "    midi_files_path = get_midi_file_paths()\n",
    "\n",
    "    raw_notes_list = []\n",
    "\n",
    "    for midi_path in midi_files_path:\n",
    "        parsed_midi_notes = parse_raw_notes(PATH + midi_path)\n",
    "        print(parsed_midi_notes.shape)\n",
    "        raw_notes_list.append(parsed_midi_notes)\n",
    "\n",
    "    return np.array(raw_notes_list).reshape((LIMIT, 1))"
   ],
   "metadata": {
    "collapsed": false,
    "pycharm": {
     "name": "#%%\n"
    }
   }
  },
  {
   "cell_type": "code",
   "execution_count": 8,
   "outputs": [],
   "source": [
    "def to_json(midi_notes_list):\n",
    "    json_file = {}\n",
    "    for index, midi_notes in enumerate(midi_notes_list):\n",
    "        notes = midi_notes[0]\n",
    "\n",
    "        json_file[index] = [_note.as_map for _note in notes]\n",
    "\n",
    "    with open(MIDI_NOTE_DIRECTORY) as f:\n",
    "        data = json.load(f)\n",
    "        data.update(json_file)\n",
    "    with open(MIDI_NOTE_DIRECTORY, 'w') as f:\n",
    "        json.dump(data, f)"
   ],
   "metadata": {
    "collapsed": false,
    "pycharm": {
     "name": "#%%\n"
    }
   }
  },
  {
   "cell_type": "code",
   "execution_count": null,
   "outputs": [],
   "source": [
    "# to work tomorrow\n",
    "def to_midi_note():\n",
    "    pass\n"
   ],
   "metadata": {
    "collapsed": false,
    "pycharm": {
     "name": "#%%\n"
    }
   }
  },
  {
   "cell_type": "code",
   "execution_count": 10,
   "outputs": [
    {
     "name": "stdout",
     "output_type": "stream",
     "text": [
      "Loading Music File: POP909/001/001.mid\n",
      "(549,)\n",
      "Loading Music File: POP909/002/002.mid\n",
      "(552,)\n"
     ]
    },
    {
     "name": "stderr",
     "output_type": "stream",
     "text": [
      "C:\\Users\\sheesh\\AppData\\Local\\Temp\\ipykernel_13184\\3037971445.py:11: VisibleDeprecationWarning: Creating an ndarray from ragged nested sequences (which is a list-or-tuple of lists-or-tuples-or ndarrays with different lengths or shapes) is deprecated. If you meant to do this, you must specify 'dtype=object' when creating the ndarray.\n",
      "  return np.array(raw_notes_list).reshape((LIMIT, 1))\n"
     ]
    },
    {
     "data": {
      "text/plain": "(2, 1)"
     },
     "execution_count": 10,
     "metadata": {},
     "output_type": "execute_result"
    }
   ],
   "source": [
    "all_notes = load_data()\n",
    "\n",
    "to_json(all_notes)\n",
    "all_notes.shape"
   ],
   "metadata": {
    "collapsed": false,
    "pycharm": {
     "name": "#%%\n"
    }
   }
  },
  {
   "cell_type": "code",
   "execution_count": null,
   "outputs": [],
   "source": [],
   "metadata": {
    "collapsed": false,
    "pycharm": {
     "name": "#%%\n"
    }
   }
  },
  {
   "cell_type": "code",
   "execution_count": null,
   "outputs": [],
   "source": [],
   "metadata": {
    "collapsed": false,
    "pycharm": {
     "name": "#%%\n"
    }
   }
  },
  {
   "cell_type": "code",
   "execution_count": null,
   "outputs": [],
   "source": [],
   "metadata": {
    "collapsed": false,
    "pycharm": {
     "name": "#%%\n"
    }
   }
  },
  {
   "cell_type": "code",
   "execution_count": null,
   "outputs": [],
   "source": [],
   "metadata": {
    "collapsed": false,
    "pycharm": {
     "name": "#%%\n"
    }
   }
  }
 ],
 "metadata": {
  "kernelspec": {
   "display_name": "Python 3",
   "language": "python",
   "name": "python3"
  },
  "language_info": {
   "codemirror_mode": {
    "name": "ipython",
    "version": 2
   },
   "file_extension": ".py",
   "mimetype": "text/x-python",
   "name": "python",
   "nbconvert_exporter": "python",
   "pygments_lexer": "ipython2",
   "version": "2.7.6"
  }
 },
 "nbformat": 4,
 "nbformat_minor": 0
}
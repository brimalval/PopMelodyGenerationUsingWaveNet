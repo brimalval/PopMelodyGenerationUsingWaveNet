{
 "cells": [
  {
   "cell_type": "code",
   "execution_count": null,
   "metadata": {},
   "outputs": [],
   "source": [
    "from music21 import *\n",
    "import os\n",
    "from fractions import *\n",
    "import numpy as np\n",
    "from midi_note import MIDINote\n",
    "import json"
   ]
  },
  {
   "cell_type": "code",
   "execution_count": null,
   "metadata": {
    "pycharm": {
     "name": "#%%\n"
    }
   },
   "outputs": [],
   "source": [
    "#Global Variables\n",
    "\n",
    "PATH = \"POP909/\"\n",
    "LIMIT = 10\n",
    "MIDI_NOTE_DIRECTORY = \"midi_notes_list.json\"\n"
   ]
  },
  {
   "cell_type": "code",
   "execution_count": null,
   "metadata": {
    "pycharm": {
     "name": "#%%\n"
    }
   },
   "outputs": [],
   "source": [
    "def parse_raw_notes(file):\n",
    "    print(\"Loading Music File:\", file)\n",
    "    raw_notes = []\n",
    "\n",
    "    midi_data = converter.parse(file)\n",
    "\n",
    "    for part in midi_data.parts:\n",
    "        if part.partName == 'MELODY':\n",
    "            midi_elements = part.recurse()\n",
    "            for element in midi_elements:\n",
    "                if isinstance(element, note.Note) or isinstance(element, note.Rest):\n",
    "                    note_duration = duration.Duration()\n",
    "                    note_duration.quarterLength = element.quarterLength\n",
    "\n",
    "                    if isinstance(element, note.Rest):\n",
    "                        raw_note = str(element.name)\n",
    "                    else:\n",
    "                        raw_note = str(element.pitch)\n",
    "\n",
    "                    raw_notes.append(MIDINote(raw_note, str(note_duration.type), str(element.quarterLength)))\n",
    "\n",
    "    return np.array(raw_notes)"
   ]
  },
  {
   "cell_type": "code",
   "execution_count": null,
   "metadata": {
    "pycharm": {
     "name": "#%%\n"
    }
   },
   "outputs": [],
   "source": [
    "def get_midi_file_paths():\n",
    "    path = PATH\n",
    "    limit = LIMIT\n",
    "    midi_files_path = []\n",
    "    for index, i in enumerate(os.listdir(path)):\n",
    "        if index == limit:\n",
    "            break\n",
    "        for j in os.listdir(path + i):\n",
    "            midi_path = (i + '/' + j)\n",
    "            if midi_path.endswith(\".mid\"):\n",
    "                midi_files_path.append(midi_path)\n",
    "    return np.array(midi_files_path)"
   ]
  },
  {
   "cell_type": "code",
   "execution_count": 9,
   "metadata": {
    "pycharm": {
     "name": "#%%\n"
    }
   },
   "outputs": [],
   "source": [
    "def load_data():\n",
    "    midi_files_path = get_midi_file_paths()\n",
    "\n",
    "    raw_notes_list = []\n",
    "\n",
    "    for midi_path in midi_files_path:\n",
    "        parsed_midi_notes = parse_raw_notes(PATH + midi_path)\n",
    "        raw_notes_list.append(parsed_midi_notes)\n",
    "\n",
    "    return np.array(raw_notes_list).reshape((LIMIT, 1))"
   ]
  },
  {
   "cell_type": "code",
   "execution_count": 10,
   "metadata": {
    "pycharm": {
     "name": "#%%\n"
    }
   },
   "outputs": [],
   "source": [
    "def to_json(midi_notes_list):\n",
    "    json_file = {}\n",
    "    for index, midi_notes in enumerate(midi_notes_list):\n",
    "        notes = midi_notes[0]\n",
    "\n",
    "        json_file[index] = [_note.as_map for _note in notes]\n",
    "\n",
    "    with open(MIDI_NOTE_DIRECTORY) as f:\n",
    "        data = json.load(f)\n",
    "        data.update(json_file)\n",
    "    with open(MIDI_NOTE_DIRECTORY, 'w') as f:\n",
    "        json.dump(data, f)"
   ]
  },
  {
   "cell_type": "code",
   "execution_count": 11,
   "metadata": {
    "pycharm": {
     "name": "#%%\n"
    }
   },
   "outputs": [],
   "source": [
    "\n",
    "def json_to_midi_notes_list(batch=None):\n",
    "    with open(MIDI_NOTE_DIRECTORY) as f:\n",
    "        data = json.load(f)\n",
    "    m = len(data)\n",
    "    midi_notes_list = []\n",
    "\n",
    "    if batch:\n",
    "        start, end = batch\n",
    "        end = min(m-1, end)\n",
    "        for index in range(start, end+1):\n",
    "            midi_notes_list.append(np.array(data[str(index)]))\n",
    "    else:\n",
    "        for index in range(m):\n",
    "            midi_notes_list.append(np.array(data[str(index)]))\n",
    "\n",
    "    return np.array(midi_notes_list)\n"
   ]
  },
  {
   "cell_type": "code",
   "execution_count": null,
   "metadata": {
    "pycharm": {
     "name": "#%%\n"
    }
   },
   "outputs": [
    {
     "name": "stdout",
     "output_type": "stream",
     "text": [
      "Loading Music File: POP909/001/001.mid\n",
      "Loading Music File: POP909/002/002.mid\n",
      "Loading Music File: POP909/003/003.mid\n",
      "Loading Music File: POP909/004/004.mid\n",
      "Loading Music File: POP909/005/005.mid\n",
      "Loading Music File: POP909/006/006.mid\n",
      "Loading Music File: POP909/007/007.mid\n",
      "Loading Music File: POP909/008/008.mid\n",
      "Loading Music File: POP909/009/009.mid\n",
      "Loading Music File: POP909/010/010.mid\n",
      "Loading Music File: POP909/011/011.mid\n",
      "Loading Music File: POP909/012/012.mid\n"
     ]
    }
   ],
   "source": [
    "# Runner\n",
    "all_midi_notes = load_data()\n",
    "to_json(all_midi_notes)"
   ]
  },
  {
   "cell_type": "code",
   "execution_count": null,
   "metadata": {
    "pycharm": {
     "name": "#%%\n"
    }
   },
   "outputs": [],
   "source": [
    "json_to_midi_notes_list()"
   ]
  },
  {
   "cell_type": "code",
   "execution_count": null,
   "metadata": {
    "pycharm": {
     "name": "#%%\n"
    }
   },
   "outputs": [],
   "source": []
  }
 ],
 "metadata": {
  "kernelspec": {
   "display_name": "Python 3 (ipykernel)",
   "language": "python",
   "name": "python3"
  },
  "language_info": {
   "codemirror_mode": {
    "name": "ipython",
    "version": 3
   },
   "file_extension": ".py",
   "mimetype": "text/x-python",
   "name": "python",
   "nbconvert_exporter": "python",
   "pygments_lexer": "ipython3",
   "version": "3.8.8"
  }
 },
 "nbformat": 4,
 "nbformat_minor": 1
}
